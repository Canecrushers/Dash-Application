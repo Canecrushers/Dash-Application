{
 "cells": [
  {
   "cell_type": "code",
   "execution_count": 1,
   "metadata": {},
   "outputs": [
    {
     "name": "stdout",
     "output_type": "stream",
     "text": [
      "C:\\Users\\kunal\\Desktop\\WORK\\Datathon\\Phase02-DataDelivery\\masks\\mask-x7680-y10240.png\n",
      "Format: None\n",
      "Size: (512, 512)\n",
      "Mode: P\n",
      "width: 512 height: 512\n",
      "C:\\Users\\kunal\\Desktop\\WORK\\Datathon\\Phase02-DataDelivery\\sugarcanetiles\\7680-10240-TCI-2016-12-22.png\n",
      "Format: None\n",
      "Size: (512, 512)\n",
      "Mode: RGB\n",
      "width: 512 height: 512\n",
      "<class 'PIL.Image.Image'>\n"
     ]
    },
    {
     "name": "stderr",
     "output_type": "stream",
     "text": [
      "C:\\Users\\kunal\\Anaconda3\\lib\\site-packages\\sklearn\\preprocessing\\data.py:323: DataConversionWarning:\n",
      "\n",
      "Data with input dtype int64 were all converted to float64 by MinMaxScaler.\n",
      "\n",
      "C:\\Users\\kunal\\Anaconda3\\lib\\site-packages\\sklearn\\preprocessing\\data.py:323: DataConversionWarning:\n",
      "\n",
      "Data with input dtype int64 were all converted to float64 by MinMaxScaler.\n",
      "\n",
      "C:\\Users\\kunal\\Anaconda3\\lib\\site-packages\\sklearn\\preprocessing\\data.py:323: DataConversionWarning:\n",
      "\n",
      "Data with input dtype int64 were all converted to float64 by MinMaxScaler.\n",
      "\n",
      "C:\\Users\\kunal\\Anaconda3\\lib\\site-packages\\sklearn\\preprocessing\\data.py:323: DataConversionWarning:\n",
      "\n",
      "Data with input dtype int64 were all converted to float64 by MinMaxScaler.\n",
      "\n",
      "C:\\Users\\kunal\\Anaconda3\\lib\\site-packages\\sklearn\\preprocessing\\data.py:323: DataConversionWarning:\n",
      "\n",
      "Data with input dtype int64 were all converted to float64 by MinMaxScaler.\n",
      "\n",
      "C:\\Users\\kunal\\Anaconda3\\lib\\site-packages\\sklearn\\preprocessing\\data.py:323: DataConversionWarning:\n",
      "\n",
      "Data with input dtype int64 were all converted to float64 by MinMaxScaler.\n",
      "\n",
      "C:\\Users\\kunal\\Anaconda3\\lib\\site-packages\\sklearn\\preprocessing\\data.py:323: DataConversionWarning:\n",
      "\n",
      "Data with input dtype int64 were all converted to float64 by MinMaxScaler.\n",
      "\n",
      "C:\\Users\\kunal\\Anaconda3\\lib\\site-packages\\sklearn\\preprocessing\\data.py:323: DataConversionWarning:\n",
      "\n",
      "Data with input dtype int64 were all converted to float64 by MinMaxScaler.\n",
      "\n",
      "C:\\Users\\kunal\\Anaconda3\\lib\\site-packages\\sklearn\\preprocessing\\data.py:323: DataConversionWarning:\n",
      "\n",
      "Data with input dtype int64 were all converted to float64 by MinMaxScaler.\n",
      "\n",
      "C:\\Users\\kunal\\Anaconda3\\lib\\site-packages\\sklearn\\preprocessing\\data.py:323: DataConversionWarning:\n",
      "\n",
      "Data with input dtype int64 were all converted to float64 by MinMaxScaler.\n",
      "\n",
      "C:\\Users\\kunal\\Anaconda3\\lib\\site-packages\\sklearn\\preprocessing\\data.py:323: DataConversionWarning:\n",
      "\n",
      "Data with input dtype int64 were all converted to float64 by MinMaxScaler.\n",
      "\n",
      "C:\\Users\\kunal\\Anaconda3\\lib\\site-packages\\sklearn\\preprocessing\\data.py:323: DataConversionWarning:\n",
      "\n",
      "Data with input dtype int64 were all converted to float64 by MinMaxScaler.\n",
      "\n",
      "C:\\Users\\kunal\\Anaconda3\\lib\\site-packages\\sklearn\\preprocessing\\data.py:323: DataConversionWarning:\n",
      "\n",
      "Data with input dtype int64 were all converted to float64 by MinMaxScaler.\n",
      "\n",
      "C:\\Users\\kunal\\Anaconda3\\lib\\site-packages\\sklearn\\preprocessing\\data.py:323: DataConversionWarning:\n",
      "\n",
      "Data with input dtype int64 were all converted to float64 by MinMaxScaler.\n",
      "\n",
      "C:\\Users\\kunal\\Anaconda3\\lib\\site-packages\\sklearn\\preprocessing\\data.py:323: DataConversionWarning:\n",
      "\n",
      "Data with input dtype int64 were all converted to float64 by MinMaxScaler.\n",
      "\n",
      "C:\\Users\\kunal\\Anaconda3\\lib\\site-packages\\sklearn\\preprocessing\\data.py:323: DataConversionWarning:\n",
      "\n",
      "Data with input dtype int64 were all converted to float64 by MinMaxScaler.\n",
      "\n"
     ]
    }
   ],
   "source": [
    "!python LoopFunction.py"
   ]
  },
  {
   "cell_type": "code",
   "execution_count": 3,
   "metadata": {},
   "outputs": [],
   "source": [
    "#"
   ]
  },
  {
   "cell_type": "code",
   "execution_count": 4,
   "metadata": {},
   "outputs": [
    {
     "data": {
      "text/plain": [
       "<module 'PIL.Image' from 'C:\\\\Users\\\\kunal\\\\Anaconda3\\\\lib\\\\site-packages\\\\PIL\\\\Image.py'>"
      ]
     },
     "execution_count": 4,
     "metadata": {},
     "output_type": "execute_result"
    }
   ],
   "source": [
    "Image"
   ]
  },
  {
   "cell_type": "code",
   "execution_count": null,
   "metadata": {},
   "outputs": [],
   "source": [
    "Image.open"
   ]
  }
 ],
 "metadata": {
  "kernelspec": {
   "display_name": "Python 3",
   "language": "python",
   "name": "python3"
  },
  "language_info": {
   "codemirror_mode": {
    "name": "ipython",
    "version": 3
   },
   "file_extension": ".py",
   "mimetype": "text/x-python",
   "name": "python",
   "nbconvert_exporter": "python",
   "pygments_lexer": "ipython3",
   "version": "3.7.1"
  }
 },
 "nbformat": 4,
 "nbformat_minor": 2
}
